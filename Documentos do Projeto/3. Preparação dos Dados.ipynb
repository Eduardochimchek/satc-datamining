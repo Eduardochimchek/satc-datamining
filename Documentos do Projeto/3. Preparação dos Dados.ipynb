{
 "cells": [
  {
   "cell_type": "markdown",
   "metadata": {
    "pycharm": {
     "name": "#%% md\n"
    }
   },
   "source": [
    "# Fase 3. Preparação dos Dados\n",
    "\n",
    "A fase de preparação dos dados cobre todas as atividades necessárias para construir o dataset final (os dados que irão alimentar o algoritmo) partindo dos dados crus. Tarefas de preparação de dados são geralmente realizadas mais de uma vez e não necessariamente em uma determinada ordem. As tarefas incluem tabular, gravar, selecionar variáveis, assim como limpeza e transformação de dados para as ferramentas de modelagem."
   ]
  },
  {
   "cell_type": "markdown",
   "metadata": {},
   "source": [
    "## 3.1 Seleção dos Dados\n",
    "\n",
    "### 3.1.1 Tarefa\n",
    "\n",
    "Decidir os dados que serão utilizados para a análise.\n",
    "\n",
    "### 3.1.2 Saída\n",
    "\n",
    "#### 3.1.2.1 Racional para Inclusão/Exclusão\n",
    "\n",
    "--"
   ]
  },
  {
   "cell_type": "markdown",
   "metadata": {},
   "source": [
    "## 3.2 Limpeza dos Dados\n",
    "\n",
    "### 3.2.1 Tarefa\n",
    "\n",
    "Aumentar a qualidade dos dados para o nível necessário pelas técnicas a serem utilizadas.\n",
    "\n",
    "### 3.2.2 Saída\n",
    "\n",
    "#### 3.2.2.1 Relatório de Limpeza de Dados\n",
    "\n",
    "--"
   ]
  },
  {
   "cell_type": "markdown",
   "metadata": {},
   "source": [
    "## 3.3 Construção dos Dados\n",
    "\n",
    "### 3.3.1 Tarefa\n",
    "\n",
    "Essa atividade inclui operações de preparação construtiva de dados, como a produção de variáveis derivadas ou entrada de novos dados, ou a transformação dos valores através das variáveis existentes.\n",
    "\n",
    "### 3.3.2 Saída\n",
    "\n",
    "#### 3.3.2.1 Variáveis Derivadas\n",
    "\n",
    "--\n",
    "    \n",
    "\n",
    "#### 3.3.2.2 Dados Gerados\n",
    "\n",
    "--"
   ]
  },
  {
   "cell_type": "markdown",
   "metadata": {},
   "source": [
    "## 3.4 Integrar os Dados\n",
    "\n",
    "### 3.4.1 Tarefas\n",
    "\n",
    "Essa é a etapa onde as informações são combinadas das múltiplas tabelas ou registros, para criar novos registros ou valores.\n",
    "\n",
    "### 3.4.2 Saída\n",
    "\n",
    "#### 3.4.2.1 Dados Combinados\n",
    "\n",
    "--"
   ]
  },
  {
   "cell_type": "markdown",
   "metadata": {},
   "source": [
    "## 3.5 Formatação dos Dados\n",
    "\n",
    "### 3.5.1 Tarefa\n",
    "\n",
    "Transformações para formatos referem-se a modificações sintáticas primárias feitas nos dados para eles não mudarem seu significado, porém para realizadas para atender a ferramenta em questão.\n",
    "\n",
    "### 3.5.2 Saída\n",
    "\n",
    "#### 3.5.2.1  Dados Reformatados\n",
    "\n",
    "--"
   ]
  }
 ],
 "metadata": {
  "kernelspec": {
   "display_name": "Python 3 (ipykernel)",
   "language": "python",
   "name": "python3"
  },
  "language_info": {
   "codemirror_mode": {
    "name": "ipython",
    "version": 3
   },
   "file_extension": ".py",
   "mimetype": "text/x-python",
   "name": "python",
   "nbconvert_exporter": "python",
   "pygments_lexer": "ipython3",
   "version": "3.9.7"
  }
 },
 "nbformat": 4,
 "nbformat_minor": 1
}
