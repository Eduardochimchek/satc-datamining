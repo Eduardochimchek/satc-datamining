{
 "cells": [
  {
   "cell_type": "markdown",
   "metadata": {
    "collapsed": true,
    "pycharm": {
     "name": "#%% md\n"
    }
   },
   "source": [
    "# Fase 5 - Avaliação dos Modelos\n",
    "\n",
    "Nessa fase do projeto, você deve construir um modelo (ou modelos) que aparenta ter a maior qualidade de uma perspectiva analítica. Antes de realizar o final desenvolvimento do modelo, é importante avaliá-lo completamente e revisar os passos executados para criá-lo, para ter certeza que o modelo alcança os objetivos de negócio, e se importantes questões não foram consideradas da maneira apropriadas. Um objetivo central é determinar se há alguma questão negligenciada. Ao fnal dessa fase, a decisão sobre os resultados dos modelos deve ser alcançada."
   ]
  },
  {
   "cell_type": "markdown",
   "metadata": {},
   "source": [
    "## 5.1 Avaliar os Resultados\n",
    "\n",
    "### 5.1.1 Tarefa\n",
    "\n",
    "Passos anteriores à avaliação lidam com fatores como a acurácia e generalização dos modelos. Esse passo avalia o grau que cada modelo se encaixa com os objetivos de negócio e procura determinar se existe alguma razão de negócio do porque esse modelo estar deficiente.\n",
    "\n",
    "### 5.1.2 Saída\n",
    "\n",
    "#### 5.1.2.1 Avaliação do Modelo em Razão dos Critérios de Sucesso da Área de Negócio\n",
    "\n",
    "--\n",
    "\n",
    "#### 5.1.2.2 Modelos Aprovados\n",
    "\n",
    "--"
   ]
  },
  {
   "cell_type": "markdown",
   "metadata": {},
   "source": [
    "## 5.2 Processo de Revisão\n",
    "\n",
    "### 5.2.1 Tarefa\n",
    "\n",
    "Nesse ponto, os modelos resultantes aparentam ser satisfatórios e satisfazem as necessidades de negócio. É apropriado agora fazer uma revisão mais completa do processo analítico para determinar se existe mais algum importante fator ou atividade que foi negligenciada.\n",
    "\n",
    "### 5.2.2 Saída\n",
    "\n",
    "#### 5.2.2.1 Processo de Revisão\n",
    "\n",
    "--"
   ]
  },
  {
   "cell_type": "markdown",
   "metadata": {},
   "source": [
    "## 5.3 Determinar os próximos passos\n",
    "\n",
    "### 5.3.1 Tarefa\n",
    "\n",
    "Dependendo dos resultados da avaliação e do processo de revisão, o time do projeto pode decidir como proceder. O time decide se o projeto será finalizado ou se seguiremos em seu desenvolvimento, iniciando interações futuras, ou setando novos projetos analíticos.\n",
    "\n",
    "### 5.3.2 Saída\n",
    "\n",
    "#### 5.3.2.1 Lista de Possíveis Ações\n",
    "\n",
    "-- \n",
    "\n",
    "#### 5.3.2.2 Decisão\n",
    "--\n"
   ]
  }
 ],
 "metadata": {
  "kernelspec": {
   "display_name": "Python 3 (ipykernel)",
   "language": "python",
   "name": "python3"
  },
  "language_info": {
   "codemirror_mode": {
    "name": "ipython",
    "version": 3
   },
   "file_extension": ".py",
   "mimetype": "text/x-python",
   "name": "python",
   "nbconvert_exporter": "python",
   "pygments_lexer": "ipython3",
   "version": "3.9.7"
  }
 },
 "nbformat": 4,
 "nbformat_minor": 1
}
