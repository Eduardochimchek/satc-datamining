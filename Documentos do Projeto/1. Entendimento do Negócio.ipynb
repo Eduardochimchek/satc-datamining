{
 "cells": [
  {
   "cell_type": "markdown",
   "metadata": {},
   "source": [
    "# Fase 1 - Entendimento do Negócio\n",
    "\n",
    "Esta fase inicial foca no entendimento dos objetivos do projetos e requisitos de uma perspectiva de negócio, e então converter isso na definição do problema e de um plano preliminar."
   ]
  },
  {
   "cell_type": "markdown",
   "metadata": {
    "pycharm": {
     "name": "#%% md\n"
    }
   },
   "source": [
    "## 1.1 Determinar os Objetivos do Negócio\n",
    "\n",
    "### 1.1.1 Tarefa\n",
    "\n",
    "O primeiro objetivo da análise dos dados é entender completamente, de uma visão de negócio, o que realmente o nosso cliente quer alcançar.\n",
    "\n",
    "\n",
    "### 1.1.2 Resultado\n",
    "\n",
    "#### 1.1.2.1 Informações Internas\n",
    "\n",
    "--\n",
    "\n",
    "#### 1.1.2.2 Objetivo de Negócio\n",
    "\n",
    "--\n",
    "\n",
    "#### 1.1.2.3 Critérios de Sucesso\n",
    "\n",
    "--"
   ]
  },
  {
   "cell_type": "markdown",
   "metadata": {},
   "source": [
    "## 1.2 Avaliando a Situação\n",
    "\n",
    "### 1.2.1 Tarefa\n",
    "\n",
    "Essa tarefa envolve de forma mais detalhada a descoberta de fatos sobre todos os recursos, condições, inferências e outros fatores que devem ser considerados para determinar o objetivo da análise dos dados e do plano do projeto.\n",
    "\n",
    "\n",
    "### 1.2.2 Saída\n",
    "\n",
    "#### 1.2.2.1 Inventário dos Recursos\n",
    "\n",
    "--\n",
    "\n",
    "#### 1.2.2.2 Requisitos, Inferências e Condições\n",
    "\n",
    "--\n",
    "\n",
    "#### 1.2.2.3 Riscos e Contingências\n",
    "\n",
    "--\n",
    "\n",
    "#### 1.2.2.4 Terminologia\n",
    "\n",
    "-- \n",
    "\n",
    "#### 1.2.2.5 Custos e Benefícios\n",
    "\n",
    "--"
   ]
  },
  {
   "cell_type": "markdown",
   "metadata": {},
   "source": [
    "## 1.3 Determinar o Objetivo dos Modelos\n",
    "\n",
    "### 1.3.1 Tarefa\n",
    "\n",
    "Um alvo de negócio determina o objetivo na terminologia de negócio. Um alvo dos modelos determina os objetivos nos termos técnicos.\n",
    "\n",
    "### 1.3.2 Saída\n",
    "\n",
    "#### 1.3.2.1 Objetivo\n",
    "\n",
    "--\n",
    "\n",
    "#### 1.3.2.2 Critério de Sucesso\n",
    "\n",
    "--"
   ]
  },
  {
   "cell_type": "markdown",
   "metadata": {},
   "source": [
    "## 1.4 Produzindo um Plano de Negócio\n",
    "\n",
    "### 1.4.1 Tarefa\n",
    "\n",
    "Descrever o plano pretendido para a atingir os objetivos dos modelos e consequentemente os objetivos de negócio\n",
    "\n",
    "### 1.4.2 Saída\n",
    "\n",
    "#### 1.4.2.1 Plano de Projeto\n",
    "\n",
    "--\n",
    "\n",
    "#### 1.4.2.2 Avaliação Inicial de Técnicas e Ferramentas\n",
    "\n",
    "--"
   ]
  }
 ],
 "metadata": {
  "kernelspec": {
   "display_name": "Python 3 (ipykernel)",
   "language": "python",
   "name": "python3"
  },
  "language_info": {
   "codemirror_mode": {
    "name": "ipython",
    "version": 3
   },
   "file_extension": ".py",
   "mimetype": "text/x-python",
   "name": "python",
   "nbconvert_exporter": "python",
   "pygments_lexer": "ipython3",
   "version": "3.9.7"
  }
 },
 "nbformat": 4,
 "nbformat_minor": 1
}
