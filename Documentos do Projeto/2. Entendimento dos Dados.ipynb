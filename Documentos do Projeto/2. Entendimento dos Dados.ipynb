{
 "cells": [
  {
   "cell_type": "markdown",
   "metadata": {},
   "source": [
    "# Fase 2 - Entendimento dos Dados\n",
    "\n",
    "A fase de entendimento de dados começa com uma coleta inicial dos dados e segue com atividades que possibilitam ao autor ficar familiar com os dados, identificando problemas na qualidade dos dados, descobrindo primeiros insights dentro dos dados, e/ou detectando amostras pra formular hipóteses."
   ]
  },
  {
   "attachments": {},
   "cell_type": "markdown",
   "metadata": {
    "pycharm": {
     "name": "#%% md\n"
    }
   },
   "source": [
    "## 2.1 Coletando Dados Iniciais\n",
    "\n",
    "### 2.1.1 Tarefa\n",
    "Adquirir os dados (ou os acessos aos datas) listados nos recursos do projeto. Essa coleta inicial inclui o carregamento dos dados, se estes forem necessários para o entendimento dos dados.\n",
    "\n",
    "### 2.1.1 Saída\n",
    "\n",
    "#### 2.1.1.1 Relatório inicial da Coleta dos Dados\n",
    "\n",
    "O nosso cliente em potencial nos forneceu um arquivo de excel (.xlsx) contendo uma base de dados com quase 12 mil registros. Após algumas análises na base de dados e conversas com o cliente, entendemos que esses dados são de atividades/tarefas executadas pelos colaboradores. Os dados mais relevantes a serem destacados são: hora de inicio, hora término, tempo gasto, operador, serviço, parada e produto. Demais colunas não citadas podem vir a serem utilizadas."
   ]
  },
  {
   "attachments": {},
   "cell_type": "markdown",
   "metadata": {
    "pycharm": {
     "name": "#%% md\n"
    }
   },
   "source": [
    "## 2.2 Descrição dos Dados\n",
    "\n",
    "### 2.2.1 Tarefa\n",
    "\n",
    "Examinar as propriedades de forma preliminar dos dados adquiridos e relatar isso nos resultados.\n",
    "\n",
    "### 2.2.2 Saída\n",
    "\n",
    "#### 2.2.2.1 Relatório de Descrição dos Dados\n",
    "\n",
    "| Coluna                 | Tipo  | Classificação            | Descrição                                      |\n",
    "| ---------------------- | :---: | ------------------------ | ---------------------------------------------- |\n",
    "| Empresa                |  ID   | Quantitativa - Razão     | Número de identificação da empresa.            |\n",
    "| Filial                 |  ID   | Quantitativa - Razão     | Número de identificação da filial.             |\n",
    "| Data                   | Date  | Qualitativa - Ordinal    | Data de criação do registro.                   |\n",
    "| Hora Inicio            | Time  | Quantitativa - Intervalo | Horário de inicio da parada                    |\n",
    "| Hora Término           | Time  | Quantitativa - Intervalo | Horário de fim da parada                       |\n",
    "| Total Horas (hh:mm:ss) | Time  | Quantitativa - Razão     | Total de horas da parada no formato de horas   |\n",
    "| Total Horas            | Float | Quantitativa - Razão     | Total de horas da parada em valor decimal      |\n",
    "| Número O.S.            |  ID   | Quantitativa - Razão     | Identificação da Ordem de Serviço              |\n",
    "| Tipo O.S.              | Text  | Qualitativa - Nominal    | Tipo de Ordem de serviço (Normal e Retrabalho) |\n",
    "| Número O.P.            |  ID   | Quantitativa - Razão     | Identificação de Ordem de Produção             |\n",
    "| Cód. Produto           |  ID   | Quantitativa - Razão     | Identificação do produto                       |\n",
    "| Produto                | Text  | Qualitativa - Nominal    | Nome do Produto                                |\n",
    "| Qtde O.P.              |  Int  | Quantitativa - Razão     | Quantidade de produto produzidos na OP         |\n",
    "| Cód. Parada            |  ID   | Quantitativa - Razão     | Número de identificação da parada              |\n",
    "| Parada                 | Text  | Qualitativa - Nominal    | Nome da parada                                 |\n",
    "| Cód. Apara             |  ID   | ????                     | ????                                           |\n",
    "| Cód. Máquina           |  ID   | Quantitativa - Razão     | Número de identificação da máquina             |\n",
    "| Máquina                | Text  | Qualitativa - Nominal    | Nome da máquina                                |\n",
    "| Cód. Operador          |  ID   | Quantitativa - Razão     | Número de identificação do operador            |\n",
    "| Operador               | Text  | Qualitativa - Nominal    | Nome do operador                               |\n",
    "| Cód. Serviço           |  ID   | Quantitativa - Razão     | Número de identificação do serviço             |\n",
    "| Serviço                | Text  | Qualitativa - Nominal    | Nome do serviço                                |\n",
    "| Cód. Centro Custo      |  ID   | Quantitativa - Razão     | Número de identificação do centro de custo     |\n",
    "| Centro Custo           | Text  | Qualitativa - Nominal    | Nome do centro de custo                        |\n",
    "| Usuário                | Text  | Qualitativa - Nominal    | Nome do login usado para criar o registro      |\n",
    "| Data Última Alteração  | Date  | Qualitativa - Ordinal    | Data de alteração do registro                  |\n"
   ]
  },
  {
   "attachments": {},
   "cell_type": "markdown",
   "metadata": {},
   "source": [
    "## 2.3 Exploração dos Dados\n",
    "\n",
    "### 2.3.1 Tarefa\n",
    "\n",
    "Essa atividade tem por objetivo questões de mineração de dados utilizando queries, visualizações e técnicas de relatórios. Isso inclui a distribuição dos atributos chaves (como por exemplo, a variável alvo de uma tarefa de predição), relacionamentos entre pares ou pequenos números de atributos, resultados de agregações simples, propriedades de amostras significantes, e análises estatísticas simples.\n",
    "\n",
    "### 2.3.2 Saída\n",
    "\n",
    "Colunas que serão utilizadas:\n",
    "\n",
    "- **Data e Total Horas(formatado)**: Estas colunas são as mais úteis pois com elas conseguiremos trabalhar e entregar um resultado desejado;\n",
    "- **Hora de Inicio, Hora de Termino**: Esses dados serão uteis para identificar o tempo de serviço do operador no dia em questão, já que são gerados registros de entrada e saída do colaborador na empresa;\n",
    "- **Número O.S., Número O.P., Código de produto, Quantidade O.P, Tipo O.S.**: Colunas que irão ser essenciais visualmente para o cliente estar ciente de qual ordem de serviço, ordem de produção e produto que estão sendo mostrados;\n",
    "- **Código Parada, Descrição Parada, Código Máquina e Descrição Máquina**: Esses dois tipos de colunas, irão auxiliar tanto no visual para o cliente quanto auxiliar nos cálculos de tempos;\n",
    "- **Código Operador**: Serve como referencia do operador dentro do registro;\n",
    "- **Código Serviço e Descrição do Serviço**: Colunas que na qual apresentam o serviço realizado pelo operador.\n",
    "\n",
    "Colunas que não serão utilizadas:\n",
    "\n",
    "- **Empresa e Filial**: Inicialmente estes dados não serão utilizados, pois, não possuem tamanha importância em relação à análise;\n",
    "- **Descrição do Produto e Descrição do Operador**: Ambas já possuem um código identificador e esses dados são considerados sensíveis e não possuem relevância na análise;\n",
    "- **Cód. Apara, Cód. Centro Custo, Centro Custo, Usuário e Data Última Alteração**: Estas colunas não possuem tamanha importância no objetivo da análise.\n",
    "\n",
    "Dados as informações presentes, algumas ideias ficam disponíveis para serem realizadas, tais como:\n",
    "- Definir o maior motivo de paradas durante um processo e com isso verificar uma forma de reduzi-las;\n",
    "- Definir o desempenho dos colaboradores conforme o serviço (processo) realizado pelo mesmo, visando encontrar o melhor colaborar para a tarefa a ser desempenhada;\n",
    "- Medir o tempo médio realizado em um processo para identificar possíveis lacunas ou atrasos em processos para aplicar-se correções.\n",
    "\n",
    "Todas as ideias aqui foram tiradas de **brainstorms** entre os indivíduos da equipe e cabe verificação de qual possui maior viabilidade tanto para servir ao cliente quanto se encaixar dentro do escopo da matéria.\n",
    "Por fim, decidimos que partiremos da perspectiva do operador, e a partir dela, realizaremos análise de dados para medição do tempo de paradas realizadas pelo mesmo, assim como o tempo gasto em relação ao total trabalhado no dia. Demais análises em cima dessa perspectiva podem aparecem e serão consideradas sua inclusão no projeto."
   ]
  },
  {
   "attachments": {},
   "cell_type": "markdown",
   "metadata": {},
   "source": [
    "## 2.4 Verificando a Qualidade dos Dados\n",
    "\n",
    "### 2.4.1 Tarefa\n",
    "\n",
    "Examinar a qualidade dos dados, respondendo questões como: Os dados estão completos (cobre todos os requisitos solicitados)? Está correto, ou contêm erros e, se tiverem erros, quão comum esses erros são?\n",
    "\n",
    "### 2.4.2 Saída\n",
    "\n",
    "#### 2.4.2.1 Relatório de Exploração dos Dados\n",
    "\n",
    "Baseado na problemática que a equipe visa resolver, os dados se encontram bem tangíveis, possibilitando sim o estudo em cima dos mesmos.\n",
    "Embora completa, a base de dados apresenta alguns pequenos \"erros\", como a falta de um \"Tempo Target\" para os produtos (que levou a equipe a adotar um novo método de análise baseado não em um tempo pré-definido, mas sim no tempo em que o colaborador permanece dentro da empresa, tendo em vista que existem registros de entrada e saída diariamente, permitindo que seja possível criar uma métrica de avaliação precisa) e colunas com lacunas vazias. Estas, por sua vez, se encontram vazias pois as informações necessárias estão alocadas em outras colunas.\n",
    "Após a análise da equipe, foi possível perceber que os problemas supracitados se dão devido a existência de campos que não podem estar juntos simultaneamente, como é o caso da coluna de \"Cód. Máquina\" e \"Número O.P.\" e o tempo target não foi cedido como dado pelo cliente. Estes problemas se repetem por toda a base de dados, fazendo com que a equipe opte por analisar tendo como foco de estudo o operador."
   ]
  }
 ],
 "metadata": {
  "kernelspec": {
   "display_name": "Python 3 (ipykernel)",
   "language": "python",
   "name": "python3"
  },
  "language_info": {
   "codemirror_mode": {
    "name": "ipython",
    "version": 3
   },
   "file_extension": ".py",
   "mimetype": "text/x-python",
   "name": "python",
   "nbconvert_exporter": "python",
   "pygments_lexer": "ipython3",
   "version": "3.9.7"
  }
 },
 "nbformat": 4,
 "nbformat_minor": 1
}
