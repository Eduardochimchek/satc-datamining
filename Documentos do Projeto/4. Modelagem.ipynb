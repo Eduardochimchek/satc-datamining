{
 "cells": [
  {
   "attachments": {},
   "cell_type": "markdown",
   "metadata": {
    "collapsed": true,
    "pycharm": {
     "name": "#%% md\n"
    }
   },
   "source": [
    "# Fase 4 - Modelagem\n",
    "\n",
    "Nessa fase, várias técnicas de modelagem são selecionadas e aplicadas, e o seus parâmetros são calibrados para otimizar os valores. Tipicamente, existem várias técnicas para cobrir o mesmo problema. Algumas técnicas seguem requisitam que os dados estejam especificados de uma determinada forma. Sendo assim, voltar a etapa de preparação dos dados é necessária eventualmente."
   ]
  },
  {
   "attachments": {},
   "cell_type": "markdown",
   "metadata": {},
   "source": [
    "## 4.1 Selecionar Técnicas de Modelagem\n",
    "\n",
    "### 4.1.1 Tarefa\n",
    "\n",
    "No primeiro passo da modelagem devemos selecionar a técnica de modelagem que será utilizada. Contudo, você pode ter já escolhido alguma ferramenta durante a fase de entendimento do negócio, essa atividade se refere à técnicas específicas de modelagem.\n",
    "\n",
    "### 4.1.2 Saída\n",
    "\n",
    "#### 4.1.2.1 Técnicas de Modelagem\n",
    "\n",
    "Matriz RFM (Recência, Frequência e Monetariedade)\n",
    "\n",
    "#### 4.1.2.2 Percepções da Modelagem\n",
    "\n",
    "Dentro da base de dados já formatada, utilizamos os conceitos da Matriz RFM para gerar pontuações em relação quantidade de paradas (a **Frequência** do RFM) e o total em cada parada (nesse caso, a **Monetariedade** do RFM). Como nossos dados são limitados ao mês de Março de 2023, e a importância da recência é baixa para a nossa análise, deixamos esta de fora. A matriz RFM foi aplicada em duas perspectivas diferentes da parada: à partir do operador e à partir produto, com essas duas matrizes podemos gerar análises para responder a casos como por exemplo:\n",
    "- Qual o total de tempo em parada de um operador? E de um produto?\n",
    "- Qual a parada com mais tempo para estes operadores?\n",
    "- Qual produto teve mais paradas do tipo `RESOL. DE PROBLEMAS EM O.P. - DEFEITO INTERNO`?\n",
    "- Qual o operador que mais esteve em paradas do tipo `PROBLEMA RELACIONADO A SAÚDE PESSOAL OU DE COLEGA` ou `REUNIÃO`?\n",
    "- Quais são as paradas mais frequentes entre todos os produtos e colaboradores?\n",
    "\n",
    "Existem demais perguntas que podem ser respondidas à partir da base de dados que foi limpa desde a etapa 3 e que podem ser adquiridas ao longo do processo. "
   ]
  },
  {
   "attachments": {},
   "cell_type": "markdown",
   "metadata": {},
   "source": [
    "## 4.2 Gerando um Plano de Testes\n",
    "\n",
    "### 4.2.1 Tarefa\n",
    "\n",
    "Antes de finalmente construir um modelo, nós garantimos uma função ou algum mecanismo para testar o modelo, tanto em sua qualidade, quanto em sua validação.\n",
    "\n",
    "### 4.2.2 Saída\n",
    "\n",
    "#### 4.2.2.1 Plano de Teste\n",
    "\n",
    "Infelizmente, nossa base de dados não conta com contexto de previsão, pois trata-se de registros de paradas em uma linha de produção, com os dados e variáveis fornecidos não podemos parametrizar um modelo fidedigno que possa prever quando uma parada vai acontecer, seguindo essa lógica, o grupo focou em responder as perguntas citadas no **item 4.1.2.2**, trazendo com isso gráficos que exemplificam os resultados obtidos e destacam os valores que mais impactam dentro do contexto dos dados.\n",
    "\n",
    "Para a montagem da análise RFM utilizamos técnicas simples de filtro do pandas e laços de repetição for para montar os campos `quantidade_parada` e `tempo_total_minutos` para ambas as perspectivas (produto e colaborador), para validar os resultados, utilizamos a própria base de dados em excel e filtramos produtos e colaboradores aleatórios (aplicando também os critérios citado no documento 3) e verificamos se os dados batiam, até o presente momento, as informações geradas no processo batem com as informações originais da base de dados."
   ]
  },
  {
   "attachments": {},
   "cell_type": "markdown",
   "metadata": {},
   "source": [
    "## 4.3 Construção dos Modelos\n",
    "\n",
    "### 4.3.1 Tarefa\n",
    "\n",
    "Rodar a ferramenta de modelagem no dataset preparado para criar um ou mais modelos.\n",
    "\n",
    "### 4.3.2 Saída\n",
    "\n",
    "#### 4.3.2.1 Configuação dos Parâmetros\n",
    "\n",
    "\n",
    "#### 4.3.2.2 Modelos\n",
    "\n",
    "\n",
    "#### 4.3.2.3 Descrições dos Modelos\n",
    "\n",
    "Como dito no **item 4.1.2.2**, utilizamos a matriz RFM para referência e pontuação dos produtos e operadores, e para que assim possamos focar nos registros com maior pontuação (44, pois como citado no item em questão, não temos a recência). A análise RFM (nesse caso apenas FM) permitiu visualizar os operadores e produtos com a mais discrepância de tempo total em parada e quantidade de paradas registrada. Com essa informação podemos gerar gráficos e pontuar os principais \"problemas\" enfrentados pelo produto e/ou operador durante o processo de fabricação."
   ]
  },
  {
   "attachments": {},
   "cell_type": "markdown",
   "metadata": {},
   "source": [
    "## 4.4 Avaliando os Modelos\n",
    "\n",
    "### 4.4.1 Tarefa\n",
    "\n",
    "Interpretar os modelos de acordo com o conhecimento e domínio disponíveis, critérios de sucesso do negócio e planos de testes. O sucesso da modelagem e técnicas de descobertas devem ser julgados tecnicamente.\n",
    "Os modelos precisam ser validados de acordo com os seus critérios, e ordenados em relação à cada um.\n",
    "\n",
    "### 4.4.2 Saída\n",
    "\n",
    "#### 4.4.2.1 Avaliação dos Modelos\n",
    "\n",
    "Os resultados obtidos e relatório podem ser vistos nos item acima, de modo geral, a matriz RFM mostrou-se acurada em relação aos dados da base original e serviram para filtrar os principais registros de operador/produto que podem ter utilidade ao nosso cliente.\n",
    "\n",
    "#### 4.4.2.2 Revisão dos Parâmetros\n",
    "\n",
    "--"
   ]
  }
 ],
 "metadata": {
  "kernelspec": {
   "display_name": "Python 3 (ipykernel)",
   "language": "python",
   "name": "python3"
  },
  "language_info": {
   "codemirror_mode": {
    "name": "ipython",
    "version": 3
   },
   "file_extension": ".py",
   "mimetype": "text/x-python",
   "name": "python",
   "nbconvert_exporter": "python",
   "pygments_lexer": "ipython3",
   "version": "3.9.7"
  }
 },
 "nbformat": 4,
 "nbformat_minor": 1
}
