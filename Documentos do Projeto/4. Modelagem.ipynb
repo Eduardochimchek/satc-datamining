{
 "cells": [
  {
   "cell_type": "markdown",
   "metadata": {
    "collapsed": true,
    "pycharm": {
     "name": "#%% md\n"
    }
   },
   "source": [
    "# Fase 4 - Modelagem\n",
    "\n",
    "Nessa fase, várias técnicas de modelagem são selecionadas e aplicadas, e o seus parâmetros são calibrados para otimizar os valores. Tipicamente, existem várias técnicas para cobrir o mesmo problema. Algumas técnicas seguem requisitam que os dados estejam especificados de uma determinada forma. Sendo assim, voltar a etapa de preparação dos dados é necessária eventualmente."
   ]
  },
  {
   "cell_type": "markdown",
   "metadata": {},
   "source": [
    "## 4.1 Selecionar Técnicas de Modelagem\n",
    "\n",
    "### 4.1.1 Tarefa\n",
    "\n",
    "No primeiro passo da modelagem devemos selecionar a técnica de modelagem que será utilizada. Contudo, você pode ter já escolhido alguma ferramenta durante a fase de entendimento do negócio, essa atividade se refere à técnicas específicas de modelagem.\n",
    "\n",
    "### 4.1.2 Saída\n",
    "\n",
    "#### 4.1.2.1 Técnicas de Modelagem\n",
    "\n",
    "--\n",
    "\n",
    "#### 4.1.2.2 Percepções da Modelagem\n",
    "\n",
    "--"
   ]
  },
  {
   "cell_type": "markdown",
   "metadata": {},
   "source": [
    "## 4.2 Gerando um Plano de Testes\n",
    "\n",
    "### 4.2.1 Tarefa\n",
    "\n",
    "Antes de finalmente construir um modelo, nós garantimos uma função ou algum mecanismo para testar o modelo, tanto em sua qualidade, quanto em sua validação.\n",
    "\n",
    "### 4.2.2 Saída\n",
    "\n",
    "#### 4.2.2.1 Plano de Teste\n",
    "\n",
    "--"
   ]
  },
  {
   "cell_type": "markdown",
   "metadata": {},
   "source": [
    "## 4.3 Construção dos Modelos\n",
    "\n",
    "### 4.3.1 Tarefa\n",
    "\n",
    "Rodar a ferramenta de modelagem no dataset preparado para criar um ou mais modelos.\n",
    "\n",
    "### 4.3.2 Saída\n",
    "\n",
    "#### 4.3.2.1 Configuação dos Parâmetros\n",
    "\n",
    "--\n",
    "\n",
    "#### 4.3.2.2 Modelos\n",
    "\n",
    "--\n",
    "\n",
    "#### 4.3.2.3 Descrições dos Modelos\n",
    "\n",
    "--"
   ]
  },
  {
   "cell_type": "markdown",
   "metadata": {},
   "source": [
    "## 4.4 Avaliando os Modelos\n",
    "\n",
    "### 4.4.1 Tarefa\n",
    "\n",
    "Interpretar os modelos de acordo com o conhecimento e domínio disponíveis, critérios de sucesso do negócio e planos de testes. O sucesso da modelagem e técnicas de descobertas devem ser julgados tecnicamente.\n",
    "Os modelos precisam ser avalidados de acordo com os seus critérios, e ordenados em relação à cada um.\n",
    "\n",
    "### 4.4.2 Saída\n",
    "\n",
    "#### 4.4.2.1 Avaliação dos Modelos\n",
    "\n",
    "--\n",
    "\n",
    "#### 4.4.2.2 Revisão dos Parâmetros\n",
    "\n",
    "--"
   ]
  }
 ],
 "metadata": {
  "kernelspec": {
   "display_name": "Python 3 (ipykernel)",
   "language": "python",
   "name": "python3"
  },
  "language_info": {
   "codemirror_mode": {
    "name": "ipython",
    "version": 3
   },
   "file_extension": ".py",
   "mimetype": "text/x-python",
   "name": "python",
   "nbconvert_exporter": "python",
   "pygments_lexer": "ipython3",
   "version": "3.9.7"
  }
 },
 "nbformat": 4,
 "nbformat_minor": 1
}
