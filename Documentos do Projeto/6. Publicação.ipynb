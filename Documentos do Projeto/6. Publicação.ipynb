{
 "cells": [
  {
   "cell_type": "markdown",
   "metadata": {
    "collapsed": true,
    "pycharm": {
     "name": "#%% md\n"
    }
   },
   "source": [
    "# Fase 6 - Publicação\n",
    "\n",
    "A criação de um modelo não é geralmente o final do projeto. Mesmo se o propósito do modelo é aumentar o conhecimento sobre os dados, o conhecimento adquirido necessitará ser organizado e apresentado de um jeito que o consumidor possa utilizá-lo. Geralmente isso envolver aplicar modelos \"ao vivo\" em conjunto com o processo de tomada de decisões da empresa. Dependendo dos requisitos, a fase de publicação pode ser simples como um relatório ou complexa como a implementação de um processo recorrente pela empresa. Em muitos casos, é o consumidor, não o desenvolvedor, quem se responsabilizará pelo processo de publicação. Contudo, mesmo se o desenvolvedor irá realizar a publicação, é importante para o consumidor entender de imediato que ações precisarão ser realizadas em função de realmente se fazer uso dos modelos criados."
   ]
  },
  {
   "cell_type": "markdown",
   "metadata": {},
   "source": [
    "## 6.1 Plano de Publicação\n",
    "\n",
    "### 6.1.1 Tarefa\n",
    "\n",
    "Essa atividade pega o resultados da avaliação e determina uma estratégia para a publicação. Se um procedimento foi identificado para criar o modelo, esse procedimento é documentado aqui para a futura publicação.\n",
    "\n",
    "### 6.1.2 Saída\n",
    "\n",
    "#### 6.1.2.1 Plano de Publicação\n",
    "\n",
    "--"
   ]
  },
  {
   "cell_type": "markdown",
   "metadata": {},
   "source": [
    "## 6.2 Plano de Monitoramento e Manutenção\n",
    "\n",
    "### 6.2.1 Tarefa\n",
    "\n",
    "Monitorar e realizar manutenções são importantes atividades se o resultado do modelo se tornar parte do dia-a-dia da área de negócio e seu ambiente. Em razão à monitorar o desenvolvimento dos resultados do modelo, o projeto precisa de um detalhado processo de monitoramento.\n",
    "\n",
    "\n",
    "### 6.2.2 Saída\n",
    "\n",
    "#### 6.2.2.1 Plano de Monitoramento e Manutenção\n",
    "\n",
    "--"
   ]
  },
  {
   "cell_type": "markdown",
   "metadata": {},
   "source": [
    "## 6.3 Relatório Final\n",
    "\n",
    "### 6.3.1 Tarefa\n",
    "\n",
    "Ao fim desse projeto, o time de projeto escreve um relatório final. Dependendo do plano de publicação, esse relatório pode ser apenas um sumário do projeto e suas experiências (se eles não foram ainda documentados como uma atividade em andamento) ou pode ser uma apresentação final após os resultados analíticos.\n",
    "\n",
    "### 6.3.2 Saída\n",
    "\n",
    "#### 6.3.2.1 Relatório Final\n",
    "\n",
    "--\n",
    "\n",
    "#### 6.3.2.2 Final presentation\n",
    "\n",
    "--"
   ]
  },
  {
   "cell_type": "markdown",
   "metadata": {},
   "source": [
    "## 6.4 Revisão do Projeto\n",
    "\n",
    "### 6.4.1 Tarefa\n",
    "\n",
    "Avalie o que foi correto e o que foi errado, o que foi feito de forma perfeita e o que precisa ser melhorado.\n",
    "\n",
    "### 6.4.2 Saída\n",
    "\n",
    "#### 6.4.2.1 Documentação da Experiência\n",
    "\n",
    "--"
   ]
  }
 ],
 "metadata": {
  "kernelspec": {
   "display_name": "Python 3 (ipykernel)",
   "language": "python",
   "name": "python3"
  },
  "language_info": {
   "codemirror_mode": {
    "name": "ipython",
    "version": 3
   },
   "file_extension": ".py",
   "mimetype": "text/x-python",
   "name": "python",
   "nbconvert_exporter": "python",
   "pygments_lexer": "ipython3",
   "version": "3.9.7"
  }
 },
 "nbformat": 4,
 "nbformat_minor": 1
}
